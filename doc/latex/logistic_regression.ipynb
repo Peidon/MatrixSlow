{
 "cells": [
  {
   "cell_type": "markdown",
   "id": "0f77f83a",
   "metadata": {},
   "source": [
    "$$\n",
    "Logistic(x) = \\frac{1}{1+e^{-x}}\n",
    "$$"
   ]
  },
  {
   "cell_type": "markdown",
   "id": "4d1421f3",
   "metadata": {},
   "source": [
    "The derivative of logistic regression function is precisely the product of logistic and (1 - logistic)  \n",
    "\n",
    "$$\n",
    "\\frac{d Logistic(x)}{d\\mathit{x}} = Logistic(x)(1 - Logistic(x))\n",
    "$$"
   ]
  },
  {
   "cell_type": "markdown",
   "id": "0ab4a0ad",
   "metadata": {},
   "source": [
    "The cross entropy is used to measure similarity between two distributions.  \n",
    "\n",
    "$$\n",
    "CrossEntropy(p, l) = \\sum_{i=1}^{k}\\mathit{l}_{i}\\cdot \\mathit{ln}p_i\n",
    "$$\n",
    "\n",
    "l is the logit vector.  \n",
    "p is the SoftMax(logit)."
   ]
  },
  {
   "cell_type": "markdown",
   "id": "adeec38c",
   "metadata": {},
   "source": [
    "logistic regression use quadratic  \n",
    "\n",
    "$$\n",
    "Logistic(x^{T}Wx + wx + b)\n",
    "$$"
   ]
  }
 ],
 "metadata": {
  "kernelspec": {
   "display_name": "Python 3 (ipykernel)",
   "language": "python",
   "name": "python3"
  },
  "language_info": {
   "codemirror_mode": {
    "name": "ipython",
    "version": 3
   },
   "file_extension": ".py",
   "mimetype": "text/x-python",
   "name": "python",
   "nbconvert_exporter": "python",
   "pygments_lexer": "ipython3",
   "version": "3.10.12"
  }
 },
 "nbformat": 4,
 "nbformat_minor": 5
}
