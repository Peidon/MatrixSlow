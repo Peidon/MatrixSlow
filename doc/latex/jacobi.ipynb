{
 "cells": [
  {
   "cell_type": "markdown",
   "id": "5237f87e",
   "metadata": {},
   "source": [
    "Jacobi metrix  \n",
    "\n",
    "$$\n",
    "J_{f}(w) =\n",
    "\\begin{bmatrix}\n",
    " \\frac{\\partial f_1}{\\partial w_1}&\\dots& \\frac{\\partial f_1}{\\partial w_n}\\\\\n",
    " \\dots&  \\dots&  \\dots\\\\\n",
    " \\frac{\\partial f_m}{\\partial w_1}&\\dots& \\frac{\\partial f_m}{\\partial w_n} \\\\\n",
    "\\end{bmatrix}\n",
    "$$"
   ]
  },
  {
   "cell_type": "code",
   "execution_count": null,
   "id": "cd359ba0",
   "metadata": {},
   "outputs": [],
   "source": []
  }
 ],
 "metadata": {
  "kernelspec": {
   "display_name": "Python 3 (ipykernel)",
   "language": "python",
   "name": "python3"
  },
  "language_info": {
   "codemirror_mode": {
    "name": "ipython",
    "version": 3
   },
   "file_extension": ".py",
   "mimetype": "text/x-python",
   "name": "python",
   "nbconvert_exporter": "python",
   "pygments_lexer": "ipython3",
   "version": "3.10.12"
  }
 },
 "nbformat": 4,
 "nbformat_minor": 5
}
