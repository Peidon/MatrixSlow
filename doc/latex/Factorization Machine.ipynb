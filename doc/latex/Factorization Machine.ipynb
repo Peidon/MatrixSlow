{
 "cells": [
  {
   "cell_type": "markdown",
   "id": "d74ec1f0",
   "metadata": {},
   "source": [
    "Factorization Machine\n",
    "\n",
    "$$\n",
    "FM(x) = Logistic\\left(\\sum_{i=1}^{n} \\sum_{j=1}^{n} (h_i \\cdot h_j)\\mathit{x}_{i}\\mathit{x}_{j} + wx + b\\right)\n",
    "= Logistic(x^{T}H^{T}Hx + wx +b)\n",
    "$$"
   ]
  },
  {
   "cell_type": "markdown",
   "id": "0504ba5e",
   "metadata": {},
   "source": [
    "H is metrix with K rows and N columns.\n",
    "\n",
    "FM model attempts to capture underlying factors behind the problem by mapping input vectors to embedding vectors, aiming to extract hidden factors through intricate representations."
   ]
  }
 ],
 "metadata": {
  "kernelspec": {
   "display_name": "Python 3 (ipykernel)",
   "language": "python",
   "name": "python3"
  },
  "language_info": {
   "codemirror_mode": {
    "name": "ipython",
    "version": 3
   },
   "file_extension": ".py",
   "mimetype": "text/x-python",
   "name": "python",
   "nbconvert_exporter": "python",
   "pygments_lexer": "ipython3",
   "version": "3.10.12"
  }
 },
 "nbformat": 4,
 "nbformat_minor": 5
}
