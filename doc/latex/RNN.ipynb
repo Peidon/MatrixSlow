{
 "cells": [
  {
   "cell_type": "markdown",
   "id": "5a2a8de4",
   "metadata": {},
   "source": [
    "Recurrent Neural Network\n",
    "\n",
    "$$\n",
    "h_t (t = 1, ... , l)\n",
    "$$\n",
    "\n",
    "At each time step, RNN is in an inner state.\n",
    "\n",
    "$$\n",
    "h_t = f(Ux_t + Wh_{t-1} + b)\n",
    "$$"
   ]
  },
  {
   "cell_type": "markdown",
   "id": "0f6d1a05",
   "metadata": {},
   "source": [
    "![](rnn0.jpg)"
   ]
  },
  {
   "cell_type": "code",
   "execution_count": null,
   "id": "ab358f6f",
   "metadata": {},
   "outputs": [],
   "source": []
  }
 ],
 "metadata": {
  "kernelspec": {
   "display_name": "Python 3 (ipykernel)",
   "language": "python",
   "name": "python3"
  },
  "language_info": {
   "codemirror_mode": {
    "name": "ipython",
    "version": 3
   },
   "file_extension": ".py",
   "mimetype": "text/x-python",
   "name": "python",
   "nbconvert_exporter": "python",
   "pygments_lexer": "ipython3",
   "version": "3.10.12"
  }
 },
 "nbformat": 4,
 "nbformat_minor": 5
}
